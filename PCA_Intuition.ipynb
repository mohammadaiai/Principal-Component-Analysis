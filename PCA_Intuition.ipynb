{
  "nbformat": 4,
  "nbformat_minor": 0,
  "metadata": {
    "colab": {
      "name": "PCA.ipynb",
      "provenance": [],
      "collapsed_sections": []
    },
    "kernelspec": {
      "name": "python3",
      "display_name": "Python 3"
    },
    "language_info": {
      "name": "python"
    }
  },
  "cells": [
    {
      "cell_type": "code",
      "source": [
        "# Create the input matrix \n",
        "import numpy as np\n",
        "input = np.array([[2.5 ,2.4, 3.0],[0.5, 0.7, 0.2]])"
      ],
      "metadata": {
        "id": "8t-8oJlQxzen"
      },
      "execution_count": 1,
      "outputs": []
    },
    {
      "cell_type": "code",
      "source": [
        "# Show the input matrix\n",
        "input"
      ],
      "metadata": {
        "colab": {
          "base_uri": "https://localhost:8080/"
        },
        "id": "es8lkp6k0GnN",
        "outputId": "8c186239-0ba5-4809-e306-30f4a2fa257d"
      },
      "execution_count": 3,
      "outputs": [
        {
          "output_type": "execute_result",
          "data": {
            "text/plain": [
              "array([[2.5, 2.4, 3. ],\n",
              "       [0.5, 0.7, 0.2]])"
            ]
          },
          "metadata": {},
          "execution_count": 3
        }
      ]
    },
    {
      "cell_type": "code",
      "source": [
        "# Show the input matrix shape\n",
        "input.shape"
      ],
      "metadata": {
        "colab": {
          "base_uri": "https://localhost:8080/"
        },
        "id": "x1MIdp92x0j0",
        "outputId": "382a85c0-7cda-4d99-8a76-b1f11035e19a"
      },
      "execution_count": 4,
      "outputs": [
        {
          "output_type": "execute_result",
          "data": {
            "text/plain": [
              "(2, 3)"
            ]
          },
          "metadata": {},
          "execution_count": 4
        }
      ]
    },
    {
      "cell_type": "code",
      "source": [
        "# Prepare the input for calculating the correlation matrix \n",
        "data = np.array([input[:,0],input[:, 1],input[:, 2]])"
      ],
      "metadata": {
        "id": "ITSBEjKj6qYR"
      },
      "execution_count": 5,
      "outputs": []
    },
    {
      "cell_type": "code",
      "source": [
        "data"
      ],
      "metadata": {
        "colab": {
          "base_uri": "https://localhost:8080/"
        },
        "id": "mM0gDlOt68Pq",
        "outputId": "daaf8a54-8048-47ff-e0bd-27a012537307"
      },
      "execution_count": 6,
      "outputs": [
        {
          "output_type": "execute_result",
          "data": {
            "text/plain": [
              "array([[2.5, 0.5],\n",
              "       [2.4, 0.7],\n",
              "       [3. , 0.2]])"
            ]
          },
          "metadata": {},
          "execution_count": 6
        }
      ]
    },
    {
      "cell_type": "code",
      "source": [
        "# Calucalte the correlation matrix\n",
        "cov = np.cov(data) \n",
        "print(cov) "
      ],
      "metadata": {
        "colab": {
          "base_uri": "https://localhost:8080/"
        },
        "id": "sj_cuo616xgK",
        "outputId": "e10b9ed5-cbbf-402e-ad1a-684848a06baa"
      },
      "execution_count": 7,
      "outputs": [
        {
          "output_type": "stream",
          "name": "stdout",
          "text": [
            "[[2.    1.7   2.8  ]\n",
            " [1.7   1.445 2.38 ]\n",
            " [2.8   2.38  3.92 ]]\n"
          ]
        }
      ]
    },
    {
      "cell_type": "code",
      "source": [
        "# Calculate the eigen values and eigen vectors \n",
        "from numpy import linalg as LA \n",
        "w, v = LA.eig(cov) \n",
        "print(\"Eigen Value\") \n",
        "print(w) \n",
        "print(\"Eigen Vector\") \n",
        "print(v)"
      ],
      "metadata": {
        "colab": {
          "base_uri": "https://localhost:8080/"
        },
        "id": "oPKdINz4zrsm",
        "outputId": "0ecbda6d-6512-4ad3-a2d1-8f3e556d308e"
      },
      "execution_count": 8,
      "outputs": [
        {
          "output_type": "stream",
          "name": "stdout",
          "text": [
            "Eigen Value\n",
            "[ 7.36500000e+00  4.53352650e-16 -4.56397627e-16]\n",
            "Eigen Vector\n",
            "[[ 0.52110906 -0.72674907  0.27595135]\n",
            " [ 0.4429427  -0.21792415 -0.89631661]\n",
            " [ 0.72955268  0.65141757  0.34708412]]\n"
          ]
        }
      ]
    },
    {
      "cell_type": "code",
      "source": [
        "# Select the vectors with highest eigen value \n",
        "eigen_vectors_max_values=np.concatenate([[v[0]], [v[2]]])"
      ],
      "metadata": {
        "id": "Bgmn1nrHjRUz"
      },
      "execution_count": 27,
      "outputs": []
    },
    {
      "cell_type": "code",
      "source": [
        "eigen_vectors_max_values"
      ],
      "metadata": {
        "colab": {
          "base_uri": "https://localhost:8080/"
        },
        "id": "LkhC8KulkaoD",
        "outputId": "f14cdb3c-5ffa-4144-f3f9-625a2bff2610"
      },
      "execution_count": 29,
      "outputs": [
        {
          "output_type": "execute_result",
          "data": {
            "text/plain": [
              "array([[ 0.52110906, -0.72674907,  0.27595135],\n",
              "       [ 0.72955268,  0.65141757,  0.34708412]])"
            ]
          },
          "metadata": {},
          "execution_count": 29
        }
      ]
    },
    {
      "cell_type": "code",
      "source": [
        "# Transpose the eigen vectors for multiplication\n",
        "trans_v=eigen_vectors_max_values.transpose()"
      ],
      "metadata": {
        "id": "wdqSUpy79r23"
      },
      "execution_count": 30,
      "outputs": []
    },
    {
      "cell_type": "code",
      "source": [
        "trans_v"
      ],
      "metadata": {
        "colab": {
          "base_uri": "https://localhost:8080/"
        },
        "id": "R6K1QqrgiFLs",
        "outputId": "3565688e-3d11-4415-d49f-78c031fc5352"
      },
      "execution_count": 31,
      "outputs": [
        {
          "output_type": "execute_result",
          "data": {
            "text/plain": [
              "array([[ 0.52110906,  0.72955268],\n",
              "       [-0.72674907,  0.65141757],\n",
              "       [ 0.27595135,  0.34708412]])"
            ]
          },
          "metadata": {},
          "execution_count": 31
        }
      ]
    },
    {
      "cell_type": "code",
      "source": [
        "# Multiply the input and transposed eigen vectors\n",
        "transformed_input=np.dot(input, trans_v)"
      ],
      "metadata": {
        "id": "d4IcbpI_7UaK"
      },
      "execution_count": 32,
      "outputs": []
    },
    {
      "cell_type": "code",
      "source": [
        "transformed_input"
      ],
      "metadata": {
        "colab": {
          "base_uri": "https://localhost:8080/"
        },
        "id": "BPtBLM0D9eSA",
        "outputId": "a3ee8c7c-5f5d-471d-fd76-ed22f5ba1e46"
      },
      "execution_count": 33,
      "outputs": [
        {
          "output_type": "execute_result",
          "data": {
            "text/plain": [
              "array([[ 0.38642893,  4.42853623],\n",
              "       [-0.19297955,  0.89018546]])"
            ]
          },
          "metadata": {},
          "execution_count": 33
        }
      ]
    }
  ]
}
